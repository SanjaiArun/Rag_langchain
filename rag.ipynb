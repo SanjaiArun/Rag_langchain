{
 "cells": [
  {
   "cell_type": "markdown",
   "id": "798eba21",
   "metadata": {},
   "source": [
    "Setting the env variables"
   ]
  },
  {
   "cell_type": "code",
   "execution_count": 1,
   "id": "1ca95d4d",
   "metadata": {},
   "outputs": [],
   "source": [
    "import getpass\n",
    "import os\n",
    "from dotenv import load_dotenv\n",
    "load_dotenv()\n",
    "\n",
    "os.environ[\"LANGSMITH_TRACING\"] = \"true\"\n",
    "os.environ[\"LANGSMITH_API_KEY\"] = os.getenv(\"LANGSMITH_API_KEY\")\n",
    "os.environ['GROQ_API_KEY'] = os.getenv(\"GROQ_API_KEY\")"
   ]
  },
  {
   "cell_type": "markdown",
   "id": "c8b6d21c",
   "metadata": {},
   "source": [
    "Setting the GROQ LLM Instance"
   ]
  },
  {
   "cell_type": "code",
   "execution_count": 2,
   "id": "947f78bc",
   "metadata": {},
   "outputs": [],
   "source": [
    "if not os.environ['GROQ_API_KEY']:\n",
    "    os.environ['GROQ_API_KEY'] = getpass.getpass(\"Enter API key for GROQ: \")\n",
    "\n",
    "from langchain.chat_models import init_chat_model\n",
    "\n",
    "llm = init_chat_model(\"llama3-8b-8192\", model_provider=\"groq\")"
   ]
  },
  {
   "cell_type": "markdown",
   "id": "67b1cda0",
   "metadata": {},
   "source": [
    "Setting the Embedding Instance"
   ]
  },
  {
   "cell_type": "code",
   "execution_count": 3,
   "id": "6004e8d0",
   "metadata": {},
   "outputs": [
    {
     "name": "stderr",
     "output_type": "stream",
     "text": [
      "c:\\Users\\Asus\\.conda\\envs\\rag\\Lib\\site-packages\\tqdm\\auto.py:21: TqdmWarning: IProgress not found. Please update jupyter and ipywidgets. See https://ipywidgets.readthedocs.io/en/stable/user_install.html\n",
      "  from .autonotebook import tqdm as notebook_tqdm\n"
     ]
    }
   ],
   "source": [
    "from langchain_huggingface import HuggingFaceEmbeddings\n",
    "\n",
    "embeddings = HuggingFaceEmbeddings(\n",
    "    model_name=\"sentence-transformers/all-mpnet-base-v2\",\n",
    "    cache_folder=\"./models\"\n",
    ")"
   ]
  },
  {
   "cell_type": "markdown",
   "id": "97c8115a",
   "metadata": {},
   "source": [
    "Setting the vector store instance"
   ]
  },
  {
   "cell_type": "code",
   "execution_count": 4,
   "id": "f91a2a2d",
   "metadata": {},
   "outputs": [],
   "source": [
    "import faiss\n",
    "from langchain_community.docstore.in_memory import InMemoryDocstore\n",
    "from langchain_community.vectorstores import FAISS\n",
    "\n",
    "embeddings_dim = len(embeddings.embed_query(\"hello worls\"))\n",
    "index = faiss.IndexFlatL2(embeddings_dim)\n",
    "\n",
    "vector_store = FAISS(\n",
    "    embedding_function=embeddings,\n",
    "    index=index,\n",
    "    docstore=InMemoryDocstore({}),\n",
    "    index_to_docstore_id={},\n",
    ")"
   ]
  },
  {
   "cell_type": "markdown",
   "id": "f962c16c",
   "metadata": {},
   "source": [
    "Build an app that answers questions about the website's content\n",
    "Website - https://lilianweng.github.io/posts/2023-06-23-agent/"
   ]
  },
  {
   "cell_type": "code",
   "execution_count": 5,
   "id": "9cc2bbe7",
   "metadata": {},
   "outputs": [
    {
     "name": "stderr",
     "output_type": "stream",
     "text": [
      "USER_AGENT environment variable not set, consider setting it to identify your requests.\n"
     ]
    }
   ],
   "source": [
    "import bs4\n",
    "from langchain import hub\n",
    "from langchain_community.document_loaders import WebBaseLoader\n",
    "from langchain_core.documents import Document\n",
    "from langchain_text_splitters import RecursiveCharacterTextSplitter\n",
    "from langgraph.graph import START, StateGraph\n",
    "from typing_extensions import List, TypedDict\n",
    "\n",
    "#Load and chunk contents of the blob\n",
    "loader = WebBaseLoader(\n",
    "    web_path=(\"https://lilianweng.github.io/posts/2023-06-23-agent/\",),\n",
    "    bs_kwargs = dict(\n",
    "        parse_only=bs4.SoupStrainer(\n",
    "            class_=(\"post-content\", \"post-title\", \"post-header\")\n",
    "        )\n",
    "    ),\n",
    ")\n",
    "docs = loader.load()\n",
    "\n",
    "text_splitter = RecursiveCharacterTextSplitter(\n",
    "    chunk_size=1000,\n",
    "    chunk_overlap=200,\n",
    ")\n",
    "all_splits = text_splitter.split_documents(docs)\n",
    "\n",
    "#index chunks\n",
    "_ = vector_store.add_documents(documents=all_splits)\n",
    "\n",
    "prompt = hub.pull(\"rlm/rag-prompt\")\n",
    "\n",
    "class State(TypedDict):\n",
    "    question: str\n",
    "    answer: str\n",
    "    context: List[Document]\n",
    "\n",
    "def retrieve(state: State):\n",
    "    retrived_docs = vector_store.similarity_search(state[\"question\"])\n",
    "    return {\n",
    "        \"context\": retrived_docs,\n",
    "    }\n",
    "\n",
    "def generate(state: State):\n",
    "    docs_content = \"\\n\\n\".join(doc.page_content for doc in state[\"context\"])\n",
    "    messages = prompt.invoke({\"question\": state[\"question\"], \"context\": docs_content})\n",
    "    response = llm.invoke(messages)\n",
    "    return {\n",
    "        \"answer\": response.content,\n",
    "    }\n",
    "\n",
    "graph_builder = StateGraph(State).add_sequence([retrieve, generate])\n",
    "graph_builder.add_edge(START, \"retrieve\")\n",
    "graph = graph_builder.compile()"
   ]
  },
  {
   "cell_type": "markdown",
   "id": "3915cfc8",
   "metadata": {},
   "source": [
    "Trigger the Agent"
   ]
  },
  {
   "cell_type": "code",
   "execution_count": 6,
   "id": "bee4de17",
   "metadata": {},
   "outputs": [
    {
     "name": "stdout",
     "output_type": "stream",
     "text": [
      "Task Decomposition is a process that breaks down a complex task into smaller, manageable subtasks. This can be done using various techniques, such as simple prompting, task-specific instructions, or human inputs. The goal is to transform big tasks into multiple smaller tasks, making it easier for an agent or model to plan and execute the task.\n"
     ]
    }
   ],
   "source": [
    "response = graph.invoke({\n",
    "    \"question\": \"What is Task Decomposition?\",\n",
    "})\n",
    "\n",
    "print(response[\"answer\"])"
   ]
  }
 ],
 "metadata": {
  "kernelspec": {
   "display_name": "rag",
   "language": "python",
   "name": "python3"
  },
  "language_info": {
   "codemirror_mode": {
    "name": "ipython",
    "version": 3
   },
   "file_extension": ".py",
   "mimetype": "text/x-python",
   "name": "python",
   "nbconvert_exporter": "python",
   "pygments_lexer": "ipython3",
   "version": "3.13.2"
  }
 },
 "nbformat": 4,
 "nbformat_minor": 5
}
